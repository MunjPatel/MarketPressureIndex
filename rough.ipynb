{
 "cells": [
  {
   "cell_type": "markdown",
   "id": "4a987d71-67bd-4ecc-944e-099bcbdf24d1",
   "metadata": {},
   "source": [
    "## importing required libraries"
   ]
  },
  {
   "cell_type": "code",
   "execution_count": 171,
   "id": "b4fb36cb-fc0c-4257-b501-2f11a736a8c9",
   "metadata": {
    "tags": []
   },
   "outputs": [],
   "source": [
    "import pandas as pd\n",
    "import yfinance as yf\n",
    "import numpy as np\n",
    "import matplotlib.pyplot as plt\n",
    "\n",
    "from sklearn.decomposition import PCA"
   ]
  },
  {
   "cell_type": "markdown",
   "id": "ef49d53e-d339-42be-92aa-1bf2aa70c207",
   "metadata": {},
   "source": [
    "## downloading ticker data and performing feature engineering"
   ]
  },
  {
   "cell_type": "code",
   "execution_count": 172,
   "id": "abf265f3-0e20-4e66-9f26-00b7bf448a1a",
   "metadata": {
    "tags": []
   },
   "outputs": [],
   "source": [
    "ticker_data = yf.Ticker('^GSPC').history(period = 'max')\n",
    "ticker_data = ticker_data.drop(columns=['Dividends', 'Stock Splits'])\n",
    "# ticker_data = ticker_data[ticker_data.index >= '2000-01-01']"
   ]
  },
  {
   "cell_type": "code",
   "execution_count": 173,
   "id": "d07dc99b-a9c1-4c42-a128-f186c8d530ea",
   "metadata": {
    "tags": []
   },
   "outputs": [],
   "source": [
    "ticker_data['close_body'] = abs(ticker_data['Close'] - ticker_data['Open'])\n",
    "\n",
    "ticker_data['upper_wick'] = ticker_data['High'] - np.maximum(ticker_data['Open'].values, ticker_data['Close'].values)\n",
    "\n",
    "ticker_data['lower_wick'] =  np.minimum(ticker_data['Open'].values, ticker_data['Close'].values) - ticker_data['Low']\n",
    "\n",
    "lookback_window = 14\n",
    "\n",
    "ticker_data['close_body'] = abs(ticker_data['Close'] - ticker_data['Open'])\n",
    "\n",
    "ticker_data['volume_imbalance_signal'] = (ticker_data['Close'] - ticker_data['Open'])*ticker_data['Volume']\n",
    "ticker_data['volatility_of_pressure'] = ticker_data['volume_imbalance_signal'].rolling(window = lookback_window).std()\n",
    "\n",
    "ticker_data['intraday_pressure_index'] = (ticker_data['High'] - ticker_data['Low'])/ticker_data['Volume']\n",
    "\n",
    "lookback_window = 14\n",
    "vis_mean = ticker_data['volume_imbalance_signal'].rolling(window=lookback_window).mean()\n",
    "vis_std = ticker_data['volume_imbalance_signal'].rolling(window=lookback_window).std(ddof=0) # to make sure that the population mean is calcualted\n",
    "ticker_data['volume_imbalance_signal_z_score'] = (ticker_data['volume_imbalance_signal']-vis_mean)/(vis_std)\n",
    "\n",
    "ticker_data['cumulative_abnormal_pressure'] = ticker_data['volume_imbalance_signal_z_score'].rolling(window = lookback_window).sum()\n",
    "\n",
    "ticker_data['range_volume_volatility'] = ((ticker_data['High'] - ticker_data['Low'])/ticker_data['Close'])/ticker_data['Volume'].rolling(window = lookback_window).mean()\n",
    "\n",
    "ticker_data['order_flow_proxy'] = (ticker_data['Close'] - (ticker_data['High'] - ticker_data['Low'])/2)*ticker_data['Volume']\n",
    "\n",
    "ticker_data['volume_shock_index'] = (ticker_data['Volume'] - ticker_data['Volume'].rolling(window = lookback_window).mean())/ticker_data['Volume'].rolling(window = lookback_window).std()\n",
    "\n",
    "ticker_data['price_momentum_pressure'] = ((ticker_data['Close'] - ticker_data['Close'].rolling(window = lookback_window).mean())/ticker_data['Close'].rolling(window = lookback_window).mean())*ticker_data['Volume']\n",
    "\n",
    "# ticker_data['Close'] = ticker_data['Close'].pct_change().dropna()\n",
    "# ticker_data['close_direction'] = np.where(ticker_data['Close'] > 0, 1, 0)\n",
    "\n",
    "returns = ticker_data['Close'].pct_change()\n",
    "\n",
    "# defining the target variable 'close_direction' based on the returns\n",
    "ticker_data['close_direction'] = np.where(returns > 0, 1, 0)\n",
    "\n",
    "# replacing the close' column with returns to make sure it's not a direct price series\n",
    "ticker_data['Close'] = returns\n",
    "\n",
    "ticker_data = ticker_data.dropna()"
   ]
  },
  {
   "cell_type": "code",
   "execution_count": 174,
   "id": "ea037d99-6c37-4bb6-9429-de55a19cdfe4",
   "metadata": {
    "tags": []
   },
   "outputs": [
    {
     "name": "stdout",
     "output_type": "stream",
     "text": [
      "<class 'pandas.core.frame.DataFrame'>\n",
      "DatetimeIndex: 15993 entries, 1962-01-19 00:00:00-05:00 to 2025-08-28 00:00:00-04:00\n",
      "Data columns (total 18 columns):\n",
      " #   Column                           Non-Null Count  Dtype  \n",
      "---  ------                           --------------  -----  \n",
      " 0   Open                             15993 non-null  float64\n",
      " 1   High                             15993 non-null  float64\n",
      " 2   Low                              15993 non-null  float64\n",
      " 3   Close                            15993 non-null  float64\n",
      " 4   Volume                           15993 non-null  int64  \n",
      " 5   close_body                       15993 non-null  float64\n",
      " 6   upper_wick                       15993 non-null  float64\n",
      " 7   lower_wick                       15993 non-null  float64\n",
      " 8   volume_imbalance_signal          15993 non-null  float64\n",
      " 9   volatility_of_pressure           15993 non-null  float64\n",
      " 10  intraday_pressure_index          15993 non-null  float64\n",
      " 11  volume_imbalance_signal_z_score  15993 non-null  float64\n",
      " 12  cumulative_abnormal_pressure     15993 non-null  float64\n",
      " 13  range_volume_volatility          15993 non-null  float64\n",
      " 14  order_flow_proxy                 15993 non-null  float64\n",
      " 15  volume_shock_index               15993 non-null  float64\n",
      " 16  price_momentum_pressure          15993 non-null  float64\n",
      " 17  close_direction                  15993 non-null  int32  \n",
      "dtypes: float64(16), int32(1), int64(1)\n",
      "memory usage: 2.3 MB\n"
     ]
    }
   ],
   "source": [
    "ticker_data.info() # --> all data present are of numeric type"
   ]
  },
  {
   "cell_type": "code",
   "execution_count": 175,
   "id": "1fe894b1-02a0-4782-a321-e93718fbcc26",
   "metadata": {
    "tags": []
   },
   "outputs": [
    {
     "data": {
      "text/html": [
       "<div><div id=9b9da6bd-c2d1-4d7a-9f37-5d6e0b38ec8b style=\"display:none; background-color:#9D6CFF; color:white; width:200px; height:30px; padding-left:5px; border-radius:4px; flex-direction:row; justify-content:space-around; align-items:center;\" onmouseover=\"this.style.backgroundColor='#BA9BF8'\" onmouseout=\"this.style.backgroundColor='#9D6CFF'\" onclick=\"window.commands?.execute('create-mitosheet-from-dataframe-output');\">See Full Dataframe in Mito</div> <script> if (window.commands?.hasCommand('create-mitosheet-from-dataframe-output')) document.getElementById('9b9da6bd-c2d1-4d7a-9f37-5d6e0b38ec8b').style.display = 'flex' </script> <table border=\"1\" class=\"dataframe\">\n",
       "  <thead>\n",
       "    <tr style=\"text-align: right;\">\n",
       "      <th></th>\n",
       "      <th>Open</th>\n",
       "      <th>High</th>\n",
       "      <th>Low</th>\n",
       "      <th>Close</th>\n",
       "      <th>Volume</th>\n",
       "      <th>close_body</th>\n",
       "      <th>upper_wick</th>\n",
       "      <th>lower_wick</th>\n",
       "      <th>volume_imbalance_signal</th>\n",
       "      <th>volatility_of_pressure</th>\n",
       "      <th>intraday_pressure_index</th>\n",
       "      <th>volume_imbalance_signal_z_score</th>\n",
       "      <th>cumulative_abnormal_pressure</th>\n",
       "      <th>range_volume_volatility</th>\n",
       "      <th>order_flow_proxy</th>\n",
       "      <th>volume_shock_index</th>\n",
       "      <th>price_momentum_pressure</th>\n",
       "      <th>close_direction</th>\n",
       "    </tr>\n",
       "  </thead>\n",
       "  <tbody>\n",
       "    <tr>\n",
       "      <th>count</th>\n",
       "      <td>15993.000000</td>\n",
       "      <td>15993.000000</td>\n",
       "      <td>15993.000000</td>\n",
       "      <td>15993.000000</td>\n",
       "      <td>1.599300e+04</td>\n",
       "      <td>15993.000000</td>\n",
       "      <td>15993.000000</td>\n",
       "      <td>15993.000000</td>\n",
       "      <td>1.599300e+04</td>\n",
       "      <td>1.599300e+04</td>\n",
       "      <td>1.599300e+04</td>\n",
       "      <td>15993.000000</td>\n",
       "      <td>15993.000000</td>\n",
       "      <td>1.599300e+04</td>\n",
       "      <td>1.599300e+04</td>\n",
       "      <td>15993.000000</td>\n",
       "      <td>1.599300e+04</td>\n",
       "      <td>15993.000000</td>\n",
       "    </tr>\n",
       "    <tr>\n",
       "      <th>mean</th>\n",
       "      <td>1051.510249</td>\n",
       "      <td>1057.691551</td>\n",
       "      <td>1044.953585</td>\n",
       "      <td>0.000338</td>\n",
       "      <td>1.451689e+09</td>\n",
       "      <td>7.039144</td>\n",
       "      <td>2.544067</td>\n",
       "      <td>3.154756</td>\n",
       "      <td>2.615448e+08</td>\n",
       "      <td>3.210628e+10</td>\n",
       "      <td>inf</td>\n",
       "      <td>-0.020271</td>\n",
       "      <td>-0.283602</td>\n",
       "      <td>4.961221e-10</td>\n",
       "      <td>3.360572e+12</td>\n",
       "      <td>0.018985</td>\n",
       "      <td>1.225098e+06</td>\n",
       "      <td>0.529294</td>\n",
       "    </tr>\n",
       "    <tr>\n",
       "      <th>std</th>\n",
       "      <td>1308.562144</td>\n",
       "      <td>1315.491993</td>\n",
       "      <td>1301.144064</td>\n",
       "      <td>0.010396</td>\n",
       "      <td>1.867475e+09</td>\n",
       "      <td>13.709756</td>\n",
       "      <td>5.387060</td>\n",
       "      <td>6.700070</td>\n",
       "      <td>8.267183e+10</td>\n",
       "      <td>7.751852e+10</td>\n",
       "      <td>NaN</td>\n",
       "      <td>1.012637</td>\n",
       "      <td>3.241722</td>\n",
       "      <td>9.304136e-10</td>\n",
       "      <td>6.013648e+12</td>\n",
       "      <td>1.049879</td>\n",
       "      <td>7.159849e+07</td>\n",
       "      <td>0.499157</td>\n",
       "    </tr>\n",
       "    <tr>\n",
       "      <th>min</th>\n",
       "      <td>52.320000</td>\n",
       "      <td>52.830002</td>\n",
       "      <td>51.349998</td>\n",
       "      <td>-0.204669</td>\n",
       "      <td>0.000000e+00</td>\n",
       "      <td>0.000000</td>\n",
       "      <td>0.000000</td>\n",
       "      <td>0.000000</td>\n",
       "      <td>-1.930595e+12</td>\n",
       "      <td>2.224746e+05</td>\n",
       "      <td>0.000000e+00</td>\n",
       "      <td>-3.553842</td>\n",
       "      <td>-12.281394</td>\n",
       "      <td>0.000000e+00</td>\n",
       "      <td>0.000000e+00</td>\n",
       "      <td>-3.397959</td>\n",
       "      <td>-2.024372e+09</td>\n",
       "      <td>0.000000</td>\n",
       "    </tr>\n",
       "    <tr>\n",
       "      <th>25%</th>\n",
       "      <td>105.050003</td>\n",
       "      <td>105.949997</td>\n",
       "      <td>104.120003</td>\n",
       "      <td>-0.004300</td>\n",
       "      <td>2.509000e+07</td>\n",
       "      <td>0.489998</td>\n",
       "      <td>0.279999</td>\n",
       "      <td>0.319946</td>\n",
       "      <td>-2.894853e+08</td>\n",
       "      <td>1.894471e+07</td>\n",
       "      <td>7.349117e-09</td>\n",
       "      <td>-0.658921</td>\n",
       "      <td>-2.445169</td>\n",
       "      <td>3.882663e-12</td>\n",
       "      <td>2.481783e+09</td>\n",
       "      <td>-0.720061</td>\n",
       "      <td>-6.872585e+05</td>\n",
       "      <td>0.000000</td>\n",
       "    </tr>\n",
       "    <tr>\n",
       "      <th>50%</th>\n",
       "      <td>453.519989</td>\n",
       "      <td>454.920013</td>\n",
       "      <td>452.059998</td>\n",
       "      <td>0.000463</td>\n",
       "      <td>2.715600e+08</td>\n",
       "      <td>1.709961</td>\n",
       "      <td>0.680000</td>\n",
       "      <td>0.730003</td>\n",
       "      <td>1.056295e+06</td>\n",
       "      <td>8.321951e+08</td>\n",
       "      <td>1.677496e-08</td>\n",
       "      <td>-0.024601</td>\n",
       "      <td>-0.275734</td>\n",
       "      <td>3.026427e-11</td>\n",
       "      <td>1.222650e+11</td>\n",
       "      <td>-0.069898</td>\n",
       "      <td>1.447987e+05</td>\n",
       "      <td>1.000000</td>\n",
       "    </tr>\n",
       "    <tr>\n",
       "      <th>75%</th>\n",
       "      <td>1362.010010</td>\n",
       "      <td>1369.229980</td>\n",
       "      <td>1350.109985</td>\n",
       "      <td>0.005246</td>\n",
       "      <td>3.160310e+09</td>\n",
       "      <td>7.729980</td>\n",
       "      <td>2.419922</td>\n",
       "      <td>3.109985</td>\n",
       "      <td>9.402535e+08</td>\n",
       "      <td>3.178753e+10</td>\n",
       "      <td>6.396315e-08</td>\n",
       "      <td>0.626877</td>\n",
       "      <td>1.865756</td>\n",
       "      <td>6.172023e-10</td>\n",
       "      <td>4.916140e+12</td>\n",
       "      <td>0.688963</td>\n",
       "      <td>6.981516e+06</td>\n",
       "      <td>1.000000</td>\n",
       "    </tr>\n",
       "    <tr>\n",
       "      <th>max</th>\n",
       "      <td>6483.839844</td>\n",
       "      <td>6495.439941</td>\n",
       "      <td>6466.959961</td>\n",
       "      <td>0.115800</td>\n",
       "      <td>1.145623e+10</td>\n",
       "      <td>491.620117</td>\n",
       "      <td>184.319824</td>\n",
       "      <td>152.779785</td>\n",
       "      <td>4.665278e+12</td>\n",
       "      <td>1.531974e+12</td>\n",
       "      <td>inf</td>\n",
       "      <td>3.437585</td>\n",
       "      <td>12.392651</td>\n",
       "      <td>1.638953e-08</td>\n",
       "      <td>5.277337e+13</td>\n",
       "      <td>3.425986</td>\n",
       "      <td>8.583653e+08</td>\n",
       "      <td>1.000000</td>\n",
       "    </tr>\n",
       "  </tbody>\n",
       "</table></div>"
      ],
      "text/plain": [
       "               Open          High           Low         Close        Volume  \\\n",
       "count  15993.000000  15993.000000  15993.000000  15993.000000  1.599300e+04   \n",
       "mean    1051.510249   1057.691551   1044.953585      0.000338  1.451689e+09   \n",
       "std     1308.562144   1315.491993   1301.144064      0.010396  1.867475e+09   \n",
       "min       52.320000     52.830002     51.349998     -0.204669  0.000000e+00   \n",
       "25%      105.050003    105.949997    104.120003     -0.004300  2.509000e+07   \n",
       "50%      453.519989    454.920013    452.059998      0.000463  2.715600e+08   \n",
       "75%     1362.010010   1369.229980   1350.109985      0.005246  3.160310e+09   \n",
       "max     6483.839844   6495.439941   6466.959961      0.115800  1.145623e+10   \n",
       "\n",
       "         close_body    upper_wick    lower_wick  volume_imbalance_signal  \\\n",
       "count  15993.000000  15993.000000  15993.000000             1.599300e+04   \n",
       "mean       7.039144      2.544067      3.154756             2.615448e+08   \n",
       "std       13.709756      5.387060      6.700070             8.267183e+10   \n",
       "min        0.000000      0.000000      0.000000            -1.930595e+12   \n",
       "25%        0.489998      0.279999      0.319946            -2.894853e+08   \n",
       "50%        1.709961      0.680000      0.730003             1.056295e+06   \n",
       "75%        7.729980      2.419922      3.109985             9.402535e+08   \n",
       "max      491.620117    184.319824    152.779785             4.665278e+12   \n",
       "\n",
       "       volatility_of_pressure  intraday_pressure_index  \\\n",
       "count            1.599300e+04             1.599300e+04   \n",
       "mean             3.210628e+10                      inf   \n",
       "std              7.751852e+10                      NaN   \n",
       "min              2.224746e+05             0.000000e+00   \n",
       "25%              1.894471e+07             7.349117e-09   \n",
       "50%              8.321951e+08             1.677496e-08   \n",
       "75%              3.178753e+10             6.396315e-08   \n",
       "max              1.531974e+12                      inf   \n",
       "\n",
       "       volume_imbalance_signal_z_score  cumulative_abnormal_pressure  \\\n",
       "count                     15993.000000                  15993.000000   \n",
       "mean                         -0.020271                     -0.283602   \n",
       "std                           1.012637                      3.241722   \n",
       "min                          -3.553842                    -12.281394   \n",
       "25%                          -0.658921                     -2.445169   \n",
       "50%                          -0.024601                     -0.275734   \n",
       "75%                           0.626877                      1.865756   \n",
       "max                           3.437585                     12.392651   \n",
       "\n",
       "       range_volume_volatility  order_flow_proxy  volume_shock_index  \\\n",
       "count             1.599300e+04      1.599300e+04        15993.000000   \n",
       "mean              4.961221e-10      3.360572e+12            0.018985   \n",
       "std               9.304136e-10      6.013648e+12            1.049879   \n",
       "min               0.000000e+00      0.000000e+00           -3.397959   \n",
       "25%               3.882663e-12      2.481783e+09           -0.720061   \n",
       "50%               3.026427e-11      1.222650e+11           -0.069898   \n",
       "75%               6.172023e-10      4.916140e+12            0.688963   \n",
       "max               1.638953e-08      5.277337e+13            3.425986   \n",
       "\n",
       "       price_momentum_pressure  close_direction  \n",
       "count             1.599300e+04     15993.000000  \n",
       "mean              1.225098e+06         0.529294  \n",
       "std               7.159849e+07         0.499157  \n",
       "min              -2.024372e+09         0.000000  \n",
       "25%              -6.872585e+05         0.000000  \n",
       "50%               1.447987e+05         1.000000  \n",
       "75%               6.981516e+06         1.000000  \n",
       "max               8.583653e+08         1.000000  "
      ]
     },
     "execution_count": 175,
     "metadata": {},
     "output_type": "execute_result"
    }
   ],
   "source": [
    "ticker_data.describe() # --> large range gap present b/w the variables, will need to perform scaling for faster convergence while training the model!"
   ]
  },
  {
   "cell_type": "code",
   "execution_count": 176,
   "id": "2f7763cf-bc2a-4bea-84fb-91addfcdb97f",
   "metadata": {
    "tags": []
   },
   "outputs": [
    {
     "data": {
      "text/html": [
       "<div><div id=b2253631-71b0-43b8-88d5-b9c4ebf2c3d5 style=\"display:none; background-color:#9D6CFF; color:white; width:200px; height:30px; padding-left:5px; border-radius:4px; flex-direction:row; justify-content:space-around; align-items:center;\" onmouseover=\"this.style.backgroundColor='#BA9BF8'\" onmouseout=\"this.style.backgroundColor='#9D6CFF'\" onclick=\"window.commands?.execute('create-mitosheet-from-dataframe-output');\">See Full Dataframe in Mito</div> <script> if (window.commands?.hasCommand('create-mitosheet-from-dataframe-output')) document.getElementById('b2253631-71b0-43b8-88d5-b9c4ebf2c3d5').style.display = 'flex' </script> <table border=\"1\" class=\"dataframe\">\n",
       "  <thead>\n",
       "    <tr style=\"text-align: right;\">\n",
       "      <th></th>\n",
       "      <th>Open</th>\n",
       "      <th>High</th>\n",
       "      <th>Low</th>\n",
       "      <th>Close</th>\n",
       "      <th>Volume</th>\n",
       "      <th>close_body</th>\n",
       "      <th>upper_wick</th>\n",
       "      <th>lower_wick</th>\n",
       "      <th>volume_imbalance_signal</th>\n",
       "      <th>volatility_of_pressure</th>\n",
       "      <th>intraday_pressure_index</th>\n",
       "      <th>volume_imbalance_signal_z_score</th>\n",
       "      <th>cumulative_abnormal_pressure</th>\n",
       "      <th>range_volume_volatility</th>\n",
       "      <th>order_flow_proxy</th>\n",
       "      <th>volume_shock_index</th>\n",
       "      <th>price_momentum_pressure</th>\n",
       "      <th>close_direction</th>\n",
       "    </tr>\n",
       "  </thead>\n",
       "  <tbody>\n",
       "    <tr>\n",
       "      <th>Open</th>\n",
       "      <td>1.000000</td>\n",
       "      <td>0.999970</td>\n",
       "      <td>0.999961</td>\n",
       "      <td>0.005096</td>\n",
       "      <td>0.759461</td>\n",
       "      <td>0.574815</td>\n",
       "      <td>0.530311</td>\n",
       "      <td>0.540537</td>\n",
       "      <td>0.004063</td>\n",
       "      <td>0.635233</td>\n",
       "      <td>-0.430595</td>\n",
       "      <td>-0.015648</td>\n",
       "      <td>-0.045981</td>\n",
       "      <td>-0.387670</td>\n",
       "      <td>0.946107</td>\n",
       "      <td>0.005140</td>\n",
       "      <td>0.051351</td>\n",
       "      <td>0.015139</td>\n",
       "    </tr>\n",
       "    <tr>\n",
       "      <th>High</th>\n",
       "      <td>0.999970</td>\n",
       "      <td>1.000000</td>\n",
       "      <td>0.999945</td>\n",
       "      <td>0.008791</td>\n",
       "      <td>0.760321</td>\n",
       "      <td>0.578121</td>\n",
       "      <td>0.532889</td>\n",
       "      <td>0.540788</td>\n",
       "      <td>0.009261</td>\n",
       "      <td>0.637567</td>\n",
       "      <td>-0.430550</td>\n",
       "      <td>-0.012496</td>\n",
       "      <td>-0.045553</td>\n",
       "      <td>-0.387774</td>\n",
       "      <td>0.946652</td>\n",
       "      <td>0.005704</td>\n",
       "      <td>0.051134</td>\n",
       "      <td>0.017376</td>\n",
       "    </tr>\n",
       "    <tr>\n",
       "      <th>Low</th>\n",
       "      <td>0.999961</td>\n",
       "      <td>0.999945</td>\n",
       "      <td>1.000000</td>\n",
       "      <td>0.009590</td>\n",
       "      <td>0.758256</td>\n",
       "      <td>0.571001</td>\n",
       "      <td>0.529351</td>\n",
       "      <td>0.536594</td>\n",
       "      <td>0.009456</td>\n",
       "      <td>0.632840</td>\n",
       "      <td>-0.430740</td>\n",
       "      <td>-0.012215</td>\n",
       "      <td>-0.044408</td>\n",
       "      <td>-0.387558</td>\n",
       "      <td>0.945402</td>\n",
       "      <td>0.003894</td>\n",
       "      <td>0.055781</td>\n",
       "      <td>0.018146</td>\n",
       "    </tr>\n",
       "    <tr>\n",
       "      <th>Close</th>\n",
       "      <td>0.005096</td>\n",
       "      <td>0.008791</td>\n",
       "      <td>0.009590</td>\n",
       "      <td>1.000000</td>\n",
       "      <td>-0.006914</td>\n",
       "      <td>-0.030167</td>\n",
       "      <td>-0.027318</td>\n",
       "      <td>-0.052633</td>\n",
       "      <td>0.531172</td>\n",
       "      <td>0.006994</td>\n",
       "      <td>-0.033103</td>\n",
       "      <td>0.788618</td>\n",
       "      <td>0.254775</td>\n",
       "      <td>-0.010753</td>\n",
       "      <td>0.003144</td>\n",
       "      <td>0.047380</td>\n",
       "      <td>0.311989</td>\n",
       "      <td>0.669171</td>\n",
       "    </tr>\n",
       "    <tr>\n",
       "      <th>Volume</th>\n",
       "      <td>0.759461</td>\n",
       "      <td>0.760321</td>\n",
       "      <td>0.758256</td>\n",
       "      <td>-0.006914</td>\n",
       "      <td>1.000000</td>\n",
       "      <td>0.561234</td>\n",
       "      <td>0.476765</td>\n",
       "      <td>0.497399</td>\n",
       "      <td>-0.008269</td>\n",
       "      <td>0.648508</td>\n",
       "      <td>-0.475556</td>\n",
       "      <td>-0.016564</td>\n",
       "      <td>-0.065015</td>\n",
       "      <td>-0.406253</td>\n",
       "      <td>0.806807</td>\n",
       "      <td>0.112380</td>\n",
       "      <td>-0.068724</td>\n",
       "      <td>0.007645</td>\n",
       "    </tr>\n",
       "    <tr>\n",
       "      <th>...</th>\n",
       "      <td>...</td>\n",
       "      <td>...</td>\n",
       "      <td>...</td>\n",
       "      <td>...</td>\n",
       "      <td>...</td>\n",
       "      <td>...</td>\n",
       "      <td>...</td>\n",
       "      <td>...</td>\n",
       "      <td>...</td>\n",
       "      <td>...</td>\n",
       "      <td>...</td>\n",
       "      <td>...</td>\n",
       "      <td>...</td>\n",
       "      <td>...</td>\n",
       "      <td>...</td>\n",
       "      <td>...</td>\n",
       "      <td>...</td>\n",
       "      <td>...</td>\n",
       "    </tr>\n",
       "    <tr>\n",
       "      <th>range_volume_volatility</th>\n",
       "      <td>-0.387670</td>\n",
       "      <td>-0.387774</td>\n",
       "      <td>-0.387558</td>\n",
       "      <td>-0.010753</td>\n",
       "      <td>-0.406253</td>\n",
       "      <td>-0.247021</td>\n",
       "      <td>-0.197721</td>\n",
       "      <td>-0.207791</td>\n",
       "      <td>-0.001826</td>\n",
       "      <td>-0.218735</td>\n",
       "      <td>0.941693</td>\n",
       "      <td>0.010573</td>\n",
       "      <td>-0.018028</td>\n",
       "      <td>1.000000</td>\n",
       "      <td>-0.295661</td>\n",
       "      <td>0.063173</td>\n",
       "      <td>-0.009908</td>\n",
       "      <td>-0.015514</td>\n",
       "    </tr>\n",
       "    <tr>\n",
       "      <th>order_flow_proxy</th>\n",
       "      <td>0.946107</td>\n",
       "      <td>0.946652</td>\n",
       "      <td>0.945402</td>\n",
       "      <td>0.003144</td>\n",
       "      <td>0.806807</td>\n",
       "      <td>0.612110</td>\n",
       "      <td>0.554581</td>\n",
       "      <td>0.571635</td>\n",
       "      <td>0.009386</td>\n",
       "      <td>0.709159</td>\n",
       "      <td>-0.335930</td>\n",
       "      <td>-0.013117</td>\n",
       "      <td>-0.050487</td>\n",
       "      <td>-0.295661</td>\n",
       "      <td>1.000000</td>\n",
       "      <td>0.084392</td>\n",
       "      <td>0.001399</td>\n",
       "      <td>0.009192</td>\n",
       "    </tr>\n",
       "    <tr>\n",
       "      <th>volume_shock_index</th>\n",
       "      <td>0.005140</td>\n",
       "      <td>0.005704</td>\n",
       "      <td>0.003894</td>\n",
       "      <td>0.047380</td>\n",
       "      <td>0.112380</td>\n",
       "      <td>0.111670</td>\n",
       "      <td>0.068248</td>\n",
       "      <td>0.080369</td>\n",
       "      <td>-0.046019</td>\n",
       "      <td>-0.010719</td>\n",
       "      <td>-0.039728</td>\n",
       "      <td>0.075989</td>\n",
       "      <td>0.074142</td>\n",
       "      <td>0.063173</td>\n",
       "      <td>0.084392</td>\n",
       "      <td>1.000000</td>\n",
       "      <td>-0.099993</td>\n",
       "      <td>0.064888</td>\n",
       "    </tr>\n",
       "    <tr>\n",
       "      <th>price_momentum_pressure</th>\n",
       "      <td>0.051351</td>\n",
       "      <td>0.051134</td>\n",
       "      <td>0.055781</td>\n",
       "      <td>0.311989</td>\n",
       "      <td>-0.068724</td>\n",
       "      <td>-0.226844</td>\n",
       "      <td>-0.163407</td>\n",
       "      <td>-0.197506</td>\n",
       "      <td>0.329803</td>\n",
       "      <td>-0.148334</td>\n",
       "      <td>-0.023298</td>\n",
       "      <td>0.119885</td>\n",
       "      <td>0.260308</td>\n",
       "      <td>-0.009908</td>\n",
       "      <td>0.001399</td>\n",
       "      <td>-0.099993</td>\n",
       "      <td>1.000000</td>\n",
       "      <td>0.160696</td>\n",
       "    </tr>\n",
       "    <tr>\n",
       "      <th>close_direction</th>\n",
       "      <td>0.015139</td>\n",
       "      <td>0.017376</td>\n",
       "      <td>0.018146</td>\n",
       "      <td>0.669171</td>\n",
       "      <td>0.007645</td>\n",
       "      <td>-0.015063</td>\n",
       "      <td>-0.034231</td>\n",
       "      <td>-0.053970</td>\n",
       "      <td>0.277757</td>\n",
       "      <td>0.003687</td>\n",
       "      <td>-0.042106</td>\n",
       "      <td>0.726566</td>\n",
       "      <td>0.238497</td>\n",
       "      <td>-0.015514</td>\n",
       "      <td>0.009192</td>\n",
       "      <td>0.064888</td>\n",
       "      <td>0.160696</td>\n",
       "      <td>1.000000</td>\n",
       "    </tr>\n",
       "  </tbody>\n",
       "</table></div>"
      ],
      "text/plain": [
       "                                     Open      High       Low     Close  \\\n",
       "Open                             1.000000  0.999970  0.999961  0.005096   \n",
       "High                             0.999970  1.000000  0.999945  0.008791   \n",
       "Low                              0.999961  0.999945  1.000000  0.009590   \n",
       "Close                            0.005096  0.008791  0.009590  1.000000   \n",
       "Volume                           0.759461  0.760321  0.758256 -0.006914   \n",
       "close_body                       0.574815  0.578121  0.571001 -0.030167   \n",
       "upper_wick                       0.530311  0.532889  0.529351 -0.027318   \n",
       "lower_wick                       0.540537  0.540788  0.536594 -0.052633   \n",
       "volume_imbalance_signal          0.004063  0.009261  0.009456  0.531172   \n",
       "volatility_of_pressure           0.635233  0.637567  0.632840  0.006994   \n",
       "intraday_pressure_index         -0.430595 -0.430550 -0.430740 -0.033103   \n",
       "volume_imbalance_signal_z_score -0.015648 -0.012496 -0.012215  0.788618   \n",
       "cumulative_abnormal_pressure    -0.045981 -0.045553 -0.044408  0.254775   \n",
       "range_volume_volatility         -0.387670 -0.387774 -0.387558 -0.010753   \n",
       "order_flow_proxy                 0.946107  0.946652  0.945402  0.003144   \n",
       "volume_shock_index               0.005140  0.005704  0.003894  0.047380   \n",
       "price_momentum_pressure          0.051351  0.051134  0.055781  0.311989   \n",
       "close_direction                  0.015139  0.017376  0.018146  0.669171   \n",
       "\n",
       "                                   Volume  close_body  upper_wick  lower_wick  \\\n",
       "Open                             0.759461    0.574815    0.530311    0.540537   \n",
       "High                             0.760321    0.578121    0.532889    0.540788   \n",
       "Low                              0.758256    0.571001    0.529351    0.536594   \n",
       "Close                           -0.006914   -0.030167   -0.027318   -0.052633   \n",
       "Volume                           1.000000    0.561234    0.476765    0.497399   \n",
       "close_body                       0.561234    1.000000    0.311982    0.323569   \n",
       "upper_wick                       0.476765    0.311982    1.000000    0.385952   \n",
       "lower_wick                       0.497399    0.323569    0.385952    1.000000   \n",
       "volume_imbalance_signal         -0.008269    0.011809   -0.043771   -0.007038   \n",
       "volatility_of_pressure           0.648508    0.641304    0.524268    0.549533   \n",
       "intraday_pressure_index         -0.475556   -0.245690   -0.208697   -0.214573   \n",
       "volume_imbalance_signal_z_score -0.016564   -0.019727   -0.014913   -0.028828   \n",
       "cumulative_abnormal_pressure    -0.065015   -0.094187   -0.064848   -0.074920   \n",
       "range_volume_volatility         -0.406253   -0.247021   -0.197721   -0.207791   \n",
       "order_flow_proxy                 0.806807    0.612110    0.554581    0.571635   \n",
       "volume_shock_index               0.112380    0.111670    0.068248    0.080369   \n",
       "price_momentum_pressure         -0.068724   -0.226844   -0.163407   -0.197506   \n",
       "close_direction                  0.007645   -0.015063   -0.034231   -0.053970   \n",
       "\n",
       "                                 volume_imbalance_signal  \\\n",
       "Open                                            0.004063   \n",
       "High                                            0.009261   \n",
       "Low                                             0.009456   \n",
       "Close                                           0.531172   \n",
       "Volume                                         -0.008269   \n",
       "close_body                                      0.011809   \n",
       "upper_wick                                     -0.043771   \n",
       "lower_wick                                     -0.007038   \n",
       "volume_imbalance_signal                         1.000000   \n",
       "volatility_of_pressure                          0.047727   \n",
       "intraday_pressure_index                        -0.004225   \n",
       "volume_imbalance_signal_z_score                 0.380181   \n",
       "cumulative_abnormal_pressure                    0.108056   \n",
       "range_volume_volatility                        -0.001826   \n",
       "order_flow_proxy                                0.009386   \n",
       "volume_shock_index                             -0.046019   \n",
       "price_momentum_pressure                         0.329803   \n",
       "close_direction                                 0.277757   \n",
       "\n",
       "                                 volatility_of_pressure  \\\n",
       "Open                                           0.635233   \n",
       "High                                           0.637567   \n",
       "Low                                            0.632840   \n",
       "Close                                          0.006994   \n",
       "Volume                                         0.648508   \n",
       "close_body                                     0.641304   \n",
       "upper_wick                                     0.524268   \n",
       "lower_wick                                     0.549533   \n",
       "volume_imbalance_signal                        0.047727   \n",
       "volatility_of_pressure                         1.000000   \n",
       "intraday_pressure_index                       -0.238791   \n",
       "volume_imbalance_signal_z_score                0.008537   \n",
       "cumulative_abnormal_pressure                  -0.034066   \n",
       "range_volume_volatility                       -0.218735   \n",
       "order_flow_proxy                               0.709159   \n",
       "volume_shock_index                            -0.010719   \n",
       "price_momentum_pressure                       -0.148334   \n",
       "close_direction                                0.003687   \n",
       "\n",
       "                                 intraday_pressure_index  \\\n",
       "Open                                           -0.430595   \n",
       "High                                           -0.430550   \n",
       "Low                                            -0.430740   \n",
       "Close                                          -0.033103   \n",
       "Volume                                         -0.475556   \n",
       "close_body                                     -0.245690   \n",
       "upper_wick                                     -0.208697   \n",
       "lower_wick                                     -0.214573   \n",
       "volume_imbalance_signal                        -0.004225   \n",
       "volatility_of_pressure                         -0.238791   \n",
       "intraday_pressure_index                         1.000000   \n",
       "volume_imbalance_signal_z_score                -0.008674   \n",
       "cumulative_abnormal_pressure                   -0.039071   \n",
       "range_volume_volatility                         0.941693   \n",
       "order_flow_proxy                               -0.335930   \n",
       "volume_shock_index                             -0.039728   \n",
       "price_momentum_pressure                        -0.023298   \n",
       "close_direction                                -0.042106   \n",
       "\n",
       "                                 volume_imbalance_signal_z_score  \\\n",
       "Open                                                   -0.015648   \n",
       "High                                                   -0.012496   \n",
       "Low                                                    -0.012215   \n",
       "Close                                                   0.788618   \n",
       "Volume                                                 -0.016564   \n",
       "close_body                                             -0.019727   \n",
       "upper_wick                                             -0.014913   \n",
       "lower_wick                                             -0.028828   \n",
       "volume_imbalance_signal                                 0.380181   \n",
       "volatility_of_pressure                                  0.008537   \n",
       "intraday_pressure_index                                -0.008674   \n",
       "volume_imbalance_signal_z_score                         1.000000   \n",
       "cumulative_abnormal_pressure                            0.172957   \n",
       "range_volume_volatility                                 0.010573   \n",
       "order_flow_proxy                                       -0.013117   \n",
       "volume_shock_index                                      0.075989   \n",
       "price_momentum_pressure                                 0.119885   \n",
       "close_direction                                         0.726566   \n",
       "\n",
       "                                 cumulative_abnormal_pressure  \\\n",
       "Open                                                -0.045981   \n",
       "High                                                -0.045553   \n",
       "Low                                                 -0.044408   \n",
       "Close                                                0.254775   \n",
       "Volume                                              -0.065015   \n",
       "close_body                                          -0.094187   \n",
       "upper_wick                                          -0.064848   \n",
       "lower_wick                                          -0.074920   \n",
       "volume_imbalance_signal                              0.108056   \n",
       "volatility_of_pressure                              -0.034066   \n",
       "intraday_pressure_index                             -0.039071   \n",
       "volume_imbalance_signal_z_score                      0.172957   \n",
       "cumulative_abnormal_pressure                         1.000000   \n",
       "range_volume_volatility                             -0.018028   \n",
       "order_flow_proxy                                    -0.050487   \n",
       "volume_shock_index                                   0.074142   \n",
       "price_momentum_pressure                              0.260308   \n",
       "close_direction                                      0.238497   \n",
       "\n",
       "                                 range_volume_volatility  order_flow_proxy  \\\n",
       "Open                                           -0.387670          0.946107   \n",
       "High                                           -0.387774          0.946652   \n",
       "Low                                            -0.387558          0.945402   \n",
       "Close                                          -0.010753          0.003144   \n",
       "Volume                                         -0.406253          0.806807   \n",
       "close_body                                     -0.247021          0.612110   \n",
       "upper_wick                                     -0.197721          0.554581   \n",
       "lower_wick                                     -0.207791          0.571635   \n",
       "volume_imbalance_signal                        -0.001826          0.009386   \n",
       "volatility_of_pressure                         -0.218735          0.709159   \n",
       "intraday_pressure_index                         0.941693         -0.335930   \n",
       "volume_imbalance_signal_z_score                 0.010573         -0.013117   \n",
       "cumulative_abnormal_pressure                   -0.018028         -0.050487   \n",
       "range_volume_volatility                         1.000000         -0.295661   \n",
       "order_flow_proxy                               -0.295661          1.000000   \n",
       "volume_shock_index                              0.063173          0.084392   \n",
       "price_momentum_pressure                        -0.009908          0.001399   \n",
       "close_direction                                -0.015514          0.009192   \n",
       "\n",
       "                                 volume_shock_index  price_momentum_pressure  \\\n",
       "Open                                       0.005140                 0.051351   \n",
       "High                                       0.005704                 0.051134   \n",
       "Low                                        0.003894                 0.055781   \n",
       "Close                                      0.047380                 0.311989   \n",
       "Volume                                     0.112380                -0.068724   \n",
       "close_body                                 0.111670                -0.226844   \n",
       "upper_wick                                 0.068248                -0.163407   \n",
       "lower_wick                                 0.080369                -0.197506   \n",
       "volume_imbalance_signal                   -0.046019                 0.329803   \n",
       "volatility_of_pressure                    -0.010719                -0.148334   \n",
       "intraday_pressure_index                   -0.039728                -0.023298   \n",
       "volume_imbalance_signal_z_score            0.075989                 0.119885   \n",
       "cumulative_abnormal_pressure               0.074142                 0.260308   \n",
       "range_volume_volatility                    0.063173                -0.009908   \n",
       "order_flow_proxy                           0.084392                 0.001399   \n",
       "volume_shock_index                         1.000000                -0.099993   \n",
       "price_momentum_pressure                   -0.099993                 1.000000   \n",
       "close_direction                            0.064888                 0.160696   \n",
       "\n",
       "                                 close_direction  \n",
       "Open                                    0.015139  \n",
       "High                                    0.017376  \n",
       "Low                                     0.018146  \n",
       "Close                                   0.669171  \n",
       "Volume                                  0.007645  \n",
       "close_body                             -0.015063  \n",
       "upper_wick                             -0.034231  \n",
       "lower_wick                             -0.053970  \n",
       "volume_imbalance_signal                 0.277757  \n",
       "volatility_of_pressure                  0.003687  \n",
       "intraday_pressure_index                -0.042106  \n",
       "volume_imbalance_signal_z_score         0.726566  \n",
       "cumulative_abnormal_pressure            0.238497  \n",
       "range_volume_volatility                -0.015514  \n",
       "order_flow_proxy                        0.009192  \n",
       "volume_shock_index                      0.064888  \n",
       "price_momentum_pressure                 0.160696  \n",
       "close_direction                         1.000000  "
      ]
     },
     "execution_count": 176,
     "metadata": {},
     "output_type": "execute_result"
    }
   ],
   "source": [
    "ticker_data.corr() # --> clear that features are highly correlated, performing PCA and exploring the results"
   ]
  },
  {
   "cell_type": "markdown",
   "id": "897aa221-aefe-4ead-a4fe-5220511e2ae6",
   "metadata": {},
   "source": [
    "## performing PCA"
   ]
  },
  {
   "cell_type": "code",
   "execution_count": 177,
   "id": "0ad40dfa-eb71-46d7-bbe8-c3fc4eddae51",
   "metadata": {
    "tags": []
   },
   "outputs": [
    {
     "data": {
      "text/plain": [
       "array([[-3.36067749e+12],\n",
       "       [-3.36067464e+12],\n",
       "       [-3.36070789e+12],\n",
       "       ...,\n",
       "       [ 2.80181340e+13],\n",
       "       [ 2.34357075e+13],\n",
       "       [ 3.56834347e+12]])"
      ]
     },
     "execution_count": 177,
     "metadata": {},
     "output_type": "execute_result"
    }
   ],
   "source": [
    "from sklearn.decomposition import PCA\n",
    "\n",
    "ticker_data = ticker_data.replace([np.inf, -np.inf], np.nan).dropna()\n",
    "pca = PCA(n_components=1)\n",
    "pca.fit_transform(ticker_data.drop(columns = ['close_direction']))"
   ]
  },
  {
   "cell_type": "code",
   "execution_count": 178,
   "id": "40b66367-168b-4e58-a613-71169820cada",
   "metadata": {
    "tags": []
   },
   "outputs": [
    {
     "data": {
      "text/html": [
       "<div><div id=cbf6cbe5-1e34-4d29-895a-08cab22bc8d3 style=\"display:none; background-color:#9D6CFF; color:white; width:200px; height:30px; padding-left:5px; border-radius:4px; flex-direction:row; justify-content:space-around; align-items:center;\" onmouseover=\"this.style.backgroundColor='#BA9BF8'\" onmouseout=\"this.style.backgroundColor='#9D6CFF'\" onclick=\"window.commands?.execute('create-mitosheet-from-dataframe-output');\">See Full Dataframe in Mito</div> <script> if (window.commands?.hasCommand('create-mitosheet-from-dataframe-output')) document.getElementById('cbf6cbe5-1e34-4d29-895a-08cab22bc8d3').style.display = 'flex' </script> <table border=\"1\" class=\"dataframe\">\n",
       "  <thead>\n",
       "    <tr style=\"text-align: right;\">\n",
       "      <th></th>\n",
       "      <th>explain_power</th>\n",
       "    </tr>\n",
       "  </thead>\n",
       "  <tbody>\n",
       "    <tr>\n",
       "      <th>order_flow_proxy</th>\n",
       "      <td>9.999582e-01</td>\n",
       "    </tr>\n",
       "    <tr>\n",
       "      <th>volatility_of_pressure</th>\n",
       "      <td>9.142283e-03</td>\n",
       "    </tr>\n",
       "    <tr>\n",
       "      <th>Volume</th>\n",
       "      <td>2.505341e-04</td>\n",
       "    </tr>\n",
       "    <tr>\n",
       "      <th>volume_imbalance_signal</th>\n",
       "      <td>1.291242e-04</td>\n",
       "    </tr>\n",
       "    <tr>\n",
       "      <th>price_momentum_pressure</th>\n",
       "      <td>1.644753e-08</td>\n",
       "    </tr>\n",
       "    <tr>\n",
       "      <th>...</th>\n",
       "      <td>...</td>\n",
       "    </tr>\n",
       "    <tr>\n",
       "      <th>Close</th>\n",
       "      <td>5.393821e-18</td>\n",
       "    </tr>\n",
       "    <tr>\n",
       "      <th>range_volume_volatility</th>\n",
       "      <td>-4.574583e-23</td>\n",
       "    </tr>\n",
       "    <tr>\n",
       "      <th>intraday_pressure_index</th>\n",
       "      <td>-3.760754e-21</td>\n",
       "    </tr>\n",
       "    <tr>\n",
       "      <th>volume_imbalance_signal_z_score</th>\n",
       "      <td>-2.209089e-15</td>\n",
       "    </tr>\n",
       "    <tr>\n",
       "      <th>cumulative_abnormal_pressure</th>\n",
       "      <td>-2.720192e-14</td>\n",
       "    </tr>\n",
       "  </tbody>\n",
       "</table></div>"
      ],
      "text/plain": [
       "                                 explain_power\n",
       "order_flow_proxy                  9.999582e-01\n",
       "volatility_of_pressure            9.142283e-03\n",
       "Volume                            2.505341e-04\n",
       "volume_imbalance_signal           1.291242e-04\n",
       "price_momentum_pressure           1.644753e-08\n",
       "High                              2.070935e-10\n",
       "Open                              2.058840e-10\n",
       "Low                               2.045643e-10\n",
       "close_body                        1.395559e-12\n",
       "lower_wick                        6.369352e-13\n",
       "upper_wick                        4.967846e-13\n",
       "volume_shock_index                1.471174e-14\n",
       "Close                             5.393821e-18\n",
       "range_volume_volatility          -4.574583e-23\n",
       "intraday_pressure_index          -3.760754e-21\n",
       "volume_imbalance_signal_z_score  -2.209089e-15\n",
       "cumulative_abnormal_pressure     -2.720192e-14"
      ]
     },
     "execution_count": 178,
     "metadata": {},
     "output_type": "execute_result"
    }
   ],
   "source": [
    "ticker_pca = pd.DataFrame(data = pca.components_.T, index = ticker_data.drop(columns = ['close_direction']).columns, columns = ['explain_power'])\n",
    "ticker_pca = ticker_pca.sort_values(by = 'explain_power', ascending=False) # --> variables best explaining the uncorrelated principle component. Taking top 2 from top and bottom!\n",
    "ticker_pca"
   ]
  },
  {
   "cell_type": "markdown",
   "id": "4660ece2-ac37-47f6-99e5-f05c29f9ee86",
   "metadata": {},
   "source": [
    "## EDA and model building with top-2 head and tail variables"
   ]
  },
  {
   "cell_type": "code",
   "execution_count": 179,
   "id": "eb547f7e-0bd9-482c-a310-0984ea0cc61f",
   "metadata": {
    "tags": []
   },
   "outputs": [
    {
     "data": {
      "text/plain": [
       "['order_flow_proxy',\n",
       " 'volatility_of_pressure',\n",
       " 'volume_imbalance_signal_z_score',\n",
       " 'cumulative_abnormal_pressure']"
      ]
     },
     "execution_count": 179,
     "metadata": {},
     "output_type": "execute_result"
    }
   ],
   "source": [
    "columns_to_keep = ticker_pca.head(2).index.tolist()\n",
    "columns_to_keep.extend(ticker_pca.tail(2).index.tolist())\n",
    "columns_to_keep # --> instead of using all the features, using these 4 to train and build forecasting model"
   ]
  },
  {
   "cell_type": "code",
   "execution_count": 180,
   "id": "3415cc2a-4709-403f-8e1b-298ca6ad9c86",
   "metadata": {
    "tags": []
   },
   "outputs": [
    {
     "name": "stderr",
     "output_type": "stream",
     "text": [
      "C:\\Users\\Munj Patel\\AppData\\Local\\Temp\\ipykernel_9304\\2091019536.py:4: SettingWithCopyWarning: \n",
      "A value is trying to be set on a copy of a slice from a DataFrame.\n",
      "Try using .loc[row_indexer,col_indexer] = value instead\n",
      "\n",
      "See the caveats in the documentation: https://pandas.pydata.org/pandas-docs/stable/user_guide/indexing.html#returning-a-view-versus-a-copy\n",
      "  eda_copy[column] = eda_copy[column]/eda_copy[column].max()\n"
     ]
    }
   ],
   "source": [
    "eda_copy = ticker_data[columns_to_keep]\n",
    "\n",
    "for column in columns_to_keep:\n",
    "    eda_copy[column] = eda_copy[column]/eda_copy[column].max()"
   ]
  },
  {
   "cell_type": "code",
   "execution_count": 181,
   "id": "7734a91b-3a32-48df-a39e-5dc8b3760eb4",
   "metadata": {
    "tags": []
   },
   "outputs": [
    {
     "data": {
      "text/plain": [
       "pandas.core.frame.DataFrame"
      ]
     },
     "execution_count": 181,
     "metadata": {},
     "output_type": "execute_result"
    }
   ],
   "source": [
    "type(eda_copy)"
   ]
  },
  {
   "cell_type": "code",
   "execution_count": 182,
   "id": "106de5bd-3ef4-4326-ae6b-637395d0227f",
   "metadata": {
    "tags": []
   },
   "outputs": [
    {
     "data": {
      "text/plain": [
       "(15992, 18)"
      ]
     },
     "execution_count": 182,
     "metadata": {},
     "output_type": "execute_result"
    }
   ],
   "source": [
    "ticker_data.shape"
   ]
  },
  {
   "cell_type": "code",
   "execution_count": 183,
   "id": "48664b2e-a16b-4c65-a1ba-1d9326033e08",
   "metadata": {
    "tags": []
   },
   "outputs": [
    {
     "data": {
      "text/plain": [
       "array([[<Axes: ylabel='Density'>, <Axes: ylabel='Density'>],\n",
       "       [<Axes: ylabel='Density'>, <Axes: ylabel='Density'>]], dtype=object)"
      ]
     },
     "execution_count": 183,
     "metadata": {},
     "output_type": "execute_result"
    },
    {
     "data": {
      "image/png": "[encoded data removed]",
      "text/plain": [
       "<Figure size 1000x800 with 4 Axes>"
      ]
     },
     "metadata": {},
     "output_type": "display_data"
    }
   ],
   "source": [
    "eda_copy.plot(kind = 'kde', subplots = True, layout = (2,2), figsize = (10,8)) # --> shows high peaks, which makes sense given that we are dealing with financial data"
   ]
  },
  {
   "cell_type": "code",
   "execution_count": 184,
   "id": "7d600ad1-08b1-4301-a8f4-c9a9efe245a4",
   "metadata": {
    "tags": []
   },
   "outputs": [
    {
     "data": {
      "text/plain": [
       "order_flow_proxy                      Axes(0.125,0.53;0.352273x0.35)\n",
       "volatility_of_pressure             Axes(0.547727,0.53;0.352273x0.35)\n",
       "volume_imbalance_signal_z_score       Axes(0.125,0.11;0.352273x0.35)\n",
       "cumulative_abnormal_pressure       Axes(0.547727,0.11;0.352273x0.35)\n",
       "dtype: object"
      ]
     },
     "execution_count": 184,
     "metadata": {},
     "output_type": "execute_result"
    },
    {
     "data": {
      "image/png": "[encoded data removed]",
      "text/plain": [
       "<Figure size 1000x800 with 4 Axes>"
      ]
     },
     "metadata": {},
     "output_type": "display_data"
    }
   ],
   "source": [
    "eda_copy.plot(kind = 'box', subplots = True, layout = (2,2), figsize = (10,8)) # --> large number of outliers detected, indicating high volatility periods presence in the data"
   ]
  },
  {
   "cell_type": "code",
   "execution_count": 185,
   "id": "36b244b8-07e6-4c47-a838-714d926398db",
   "metadata": {
    "tags": []
   },
   "outputs": [
    {
     "data": {
      "text/plain": [
       "array([[<Axes: xlabel='Date'>, <Axes: xlabel='Date'>],\n",
       "       [<Axes: xlabel='Date'>, <Axes: xlabel='Date'>]], dtype=object)"
      ]
     },
     "execution_count": 185,
     "metadata": {},
     "output_type": "execute_result"
    },
    {
     "data": {
      "image/png": "[encoded data removed]",
      "text/plain": [
       "<Figure size 1000x800 with 4 Axes>"
      ]
     },
     "metadata": {},
     "output_type": "display_data"
    }
   ],
   "source": [
    "eda_copy.plot(kind = 'line', subplots = True, layout = (2,2), figsize = (10,8)) # --> large variations are observable from the figures."
   ]
  },
  {
   "cell_type": "code",
   "execution_count": 186,
   "id": "c662d9c4-ecb5-4cf8-a9fb-39f41c76725c",
   "metadata": {
    "tags": []
   },
   "outputs": [],
   "source": [
    "from sklearn.model_selection import TimeSeriesSplit\n",
    "from sklearn.preprocessing import StandardScaler\n",
    "from sklearn.ensemble import RandomForestClassifier\n",
    "from sklearn.naive_bayes import BernoulliNB\n",
    "from sklearn.neural_network import MLPClassifier\n",
    "from sklearn.metrics import classification_report, accuracy_score, confusion_matrix, cohen_kappa_score\n",
    "from tqdm import tqdm"
   ]
  },
  {
   "cell_type": "code",
   "execution_count": 187,
   "id": "a1578ab4-ed9d-4ca4-b31c-2f764529b1d0",
   "metadata": {
    "tags": []
   },
   "outputs": [],
   "source": [
    "x = ticker_data[columns_to_keep]\n",
    "y = ticker_data['close_direction']\n",
    "\n",
    "valid_index = x.dropna().index.intersection(y.dropna().index)\n",
    "x = x.loc[valid_index]\n",
    "y = y.loc[valid_index]"
   ]
  },
  {
   "cell_type": "code",
   "execution_count": 188,
   "id": "6d44b169-3548-49db-9cda-399a2060ed4f",
   "metadata": {
    "tags": []
   },
   "outputs": [],
   "source": [
    "rf_classifier_baseline = RandomForestClassifier(n_estimators=100, random_state=0)\n",
    "nb_classifier_baseline = BernoulliNB()\n",
    "mlp_classifier_baseline = MLPClassifier(max_iterations = 500)"
   ]
  },
  {
   "cell_type": "code",
   "execution_count": 189,
   "id": "8781b470-1678-4343-97dd-0fa6bade61d5",
   "metadata": {
    "tags": []
   },
   "outputs": [],
   "source": [
    "def get_model_name(model_instance):\n",
    "    return model_instance.__class__.__name__"
   ]
  },
  {
   "cell_type": "code",
   "execution_count": 190,
   "id": "aa507529-c14c-43cc-8eb4-57b5f1aa69bf",
   "metadata": {
    "tags": []
   },
   "outputs": [],
   "source": [
    "models_list = [rf_classifier_baseline, nb_classifier_baseline, mlp_classifier_baseline]"
   ]
  },
  {
   "cell_type": "code",
   "execution_count": 191,
   "id": "9ba068c4-c109-4661-8d56-7157c2e0cd52",
   "metadata": {
    "tags": []
   },
   "outputs": [],
   "source": [
    "baseline_scores = {f\"{models_list[index].__class__.__name__}\":[] for index in range(len(models_list))}"
   ]
  },
  {
   "cell_type": "code",
   "execution_count": 192,
   "id": "ebd2ca01-c5d8-4eb9-aa34-9e74e8e3ef65",
   "metadata": {
    "tags": []
   },
   "outputs": [
    {
     "name": "stderr",
     "output_type": "stream",
     "text": [
      "Fold 1:  33%|█████████████████████████▎                                                  | 1/3 [00:00<00:01,  1.45it/s]C:\\Users\\Munj Patel\\AppData\\Local\\Packages\\PythonSoftwareFoundation.Python.3.9_qbz5n2kfra8p0\\LocalCache\\local-packages\\Python39\\site-packages\\sklearn\\neural_network\\_multilayer_perceptron.py:684: ConvergenceWarning: Stochastic Optimizer: Maximum iterations (200) reached and the optimization hasn't converged yet.\n",
      "  warnings.warn(\n",
      "Fold 1: 100%|████████████████████████████████████████████████████████████████████████████| 3/3 [00:03<00:00,  1.21s/it]\n"
     ]
    },
    {
     "name": "stdout",
     "output_type": "stream",
     "text": [
      "✅ Completed Fold 1\n"
     ]
    },
    {
     "name": "stderr",
     "output_type": "stream",
     "text": [
      "Fold 2:  33%|█████████████████████████▎                                                  | 1/3 [00:01<00:02,  1.24s/it]C:\\Users\\Munj Patel\\AppData\\Local\\Packages\\PythonSoftwareFoundation.Python.3.9_qbz5n2kfra8p0\\LocalCache\\local-packages\\Python39\\site-packages\\sklearn\\neural_network\\_multilayer_perceptron.py:684: ConvergenceWarning: Stochastic Optimizer: Maximum iterations (200) reached and the optimization hasn't converged yet.\n",
      "  warnings.warn(\n",
      "Fold 2: 100%|████████████████████████████████████████████████████████████████████████████| 3/3 [00:06<00:00,  2.31s/it]\n"
     ]
    },
    {
     "name": "stdout",
     "output_type": "stream",
     "text": [
      "✅ Completed Fold 2\n"
     ]
    },
    {
     "name": "stderr",
     "output_type": "stream",
     "text": [
      "Fold 3:  33%|█████████████████████████▎                                                  | 1/3 [00:01<00:03,  1.78s/it]C:\\Users\\Munj Patel\\AppData\\Local\\Packages\\PythonSoftwareFoundation.Python.3.9_qbz5n2kfra8p0\\LocalCache\\local-packages\\Python39\\site-packages\\sklearn\\neural_network\\_multilayer_perceptron.py:684: ConvergenceWarning: Stochastic Optimizer: Maximum iterations (200) reached and the optimization hasn't converged yet.\n",
      "  warnings.warn(\n",
      "Fold 3: 100%|████████████████████████████████████████████████████████████████████████████| 3/3 [00:09<00:00,  3.23s/it]\n"
     ]
    },
    {
     "name": "stdout",
     "output_type": "stream",
     "text": [
      "✅ Completed Fold 3\n"
     ]
    },
    {
     "name": "stderr",
     "output_type": "stream",
     "text": [
      "Fold 4: 100%|████████████████████████████████████████████████████████████████████████████| 3/3 [00:08<00:00,  2.70s/it]\n"
     ]
    },
    {
     "name": "stdout",
     "output_type": "stream",
     "text": [
      "✅ Completed Fold 4\n"
     ]
    },
    {
     "name": "stderr",
     "output_type": "stream",
     "text": [
      "Fold 5: 100%|████████████████████████████████████████████████████████████████████████████| 3/3 [00:09<00:00,  3.23s/it]\n"
     ]
    },
    {
     "name": "stdout",
     "output_type": "stream",
     "text": [
      "✅ Completed Fold 5\n"
     ]
    },
    {
     "name": "stderr",
     "output_type": "stream",
     "text": [
      "Fold 6: 100%|████████████████████████████████████████████████████████████████████████████| 3/3 [00:10<00:00,  3.50s/it]\n"
     ]
    },
    {
     "name": "stdout",
     "output_type": "stream",
     "text": [
      "✅ Completed Fold 6\n"
     ]
    },
    {
     "name": "stderr",
     "output_type": "stream",
     "text": [
      "Fold 7: 100%|████████████████████████████████████████████████████████████████████████████| 3/3 [00:15<00:00,  5.28s/it]\n"
     ]
    },
    {
     "name": "stdout",
     "output_type": "stream",
     "text": [
      "✅ Completed Fold 7\n"
     ]
    },
    {
     "name": "stderr",
     "output_type": "stream",
     "text": [
      "Fold 8: 100%|████████████████████████████████████████████████████████████████████████████| 3/3 [00:15<00:00,  5.01s/it]\n"
     ]
    },
    {
     "name": "stdout",
     "output_type": "stream",
     "text": [
      "✅ Completed Fold 8\n"
     ]
    },
    {
     "name": "stderr",
     "output_type": "stream",
     "text": [
      "Fold 9: 100%|████████████████████████████████████████████████████████████████████████████| 3/3 [00:17<00:00,  5.72s/it]\n"
     ]
    },
    {
     "name": "stdout",
     "output_type": "stream",
     "text": [
      "✅ Completed Fold 9\n"
     ]
    },
    {
     "name": "stderr",
     "output_type": "stream",
     "text": [
      "Fold 10: 100%|███████████████████████████████████████████████████████████████████████████| 3/3 [00:20<00:00,  6.88s/it]"
     ]
    },
    {
     "name": "stdout",
     "output_type": "stream",
     "text": [
      "✅ Completed Fold 10\n"
     ]
    },
    {
     "name": "stderr",
     "output_type": "stream",
     "text": [
      "\n"
     ]
    }
   ],
   "source": [
    "from sklearn.model_selection import TimeSeriesSplit\n",
    "from sklearn.preprocessing import StandardScaler\n",
    "from sklearn.metrics import accuracy_score\n",
    "from collections import defaultdict\n",
    "from tqdm import tqdm\n",
    "import numpy as np\n",
    "\n",
    "# Convert to numpy early for speed\n",
    "x_np = x.to_numpy()\n",
    "y_np = y.to_numpy()\n",
    "\n",
    "tscv = TimeSeriesSplit(n_splits=10)\n",
    "baseline_scores = defaultdict(list)\n",
    "\n",
    "for fold_idx, (train_index, test_index) in enumerate(tscv.split(x_np)):\n",
    "    x_train, x_test = x_np[train_index], x_np[test_index]\n",
    "    y_train, y_test = y_np[train_index], y_np[test_index]\n",
    "    \n",
    "    # Drop any rows with NaNs after split (rare if cleaned earlier)\n",
    "    mask_train = ~np.isnan(x_train).any(axis=1)\n",
    "    mask_test = ~np.isnan(x_test).any(axis=1)\n",
    "    x_train, y_train = x_train[mask_train], y_train[mask_train]\n",
    "    x_test, y_test = x_test[mask_test], y_test[mask_test]\n",
    "\n",
    "    if len(x_test) == 0 or len(x_train) == 0:\n",
    "        print(f\"Skipping fold {fold_idx+1} due to empty dataset after cleaning.\")\n",
    "        continue\n",
    "\n",
    "    # Scale\n",
    "    scaler = StandardScaler()\n",
    "    x_train_scaled = scaler.fit_transform(x_train)\n",
    "    x_test_scaled = scaler.transform(x_test)\n",
    "\n",
    "    for model in tqdm(models_list, desc=f\"Fold {fold_idx+1}\"):\n",
    "        model_name = model.__class__.__name__\n",
    "\n",
    "        model.fit(x_train_scaled, y_train)\n",
    "        y_pred = model.predict(x_test_scaled)\n",
    "        score = accuracy_score(y_test, y_pred)\n",
    "\n",
    "        baseline_scores[model_name].append(score)\n",
    "\n",
    "    print(f\"✅ Completed Fold {fold_idx+1}\")"
   ]
  },
  {
   "cell_type": "code",
   "execution_count": 193,
   "id": "13cd4424-d9a1-40e0-a5a5-00553af93722",
   "metadata": {
    "tags": []
   },
   "outputs": [
    {
     "data": {
      "text/plain": [
       "defaultdict(list,\n",
       "            {'RandomForestClassifier': [0.887130075705437,\n",
       "              0.9036476256022024,\n",
       "              0.8699242945629732,\n",
       "              0.8513420509291122,\n",
       "              0.8960770818995183,\n",
       "              0.9029593943565037,\n",
       "              0.8850653819683414,\n",
       "              0.905712319339298,\n",
       "              0.8396421197522368,\n",
       "              0.8183069511355816],\n",
       "             'BernoulliNB': [0.860977288368892,\n",
       "              0.9112181693048864,\n",
       "              0.8830006882312457,\n",
       "              0.8830006882312457,\n",
       "              0.874741913282863,\n",
       "              0.9008947006194081,\n",
       "              0.9015829318651066,\n",
       "              0.8878183069511356,\n",
       "              0.8368891947694426,\n",
       "              0.8265657260839642],\n",
       "             'MLPClassifier': [0.8864418444597385,\n",
       "              0.8981417756366139,\n",
       "              0.7267721954576738,\n",
       "              0.7845836200963524,\n",
       "              0.8492773571920165,\n",
       "              0.8382656572608397,\n",
       "              0.8706125258086718,\n",
       "              0.9139710942876806,\n",
       "              0.8265657260839642,\n",
       "              0.7660013764624914]})"
      ]
     },
     "execution_count": 193,
     "metadata": {},
     "output_type": "execute_result"
    }
   ],
   "source": [
    "baseline_scores"
   ]
  },
  {
   "cell_type": "code",
   "execution_count": 194,
   "id": "73aec71d-474b-4751-8411-08a1fc3ddf28",
   "metadata": {
    "tags": []
   },
   "outputs": [
    {
     "name": "stdout",
     "output_type": "stream",
     "text": [
      "\n",
      "==================================================\n",
      "FINAL RESULTS:\n",
      "\n",
      "Baseline Model: RandomForestClassifier, Average Accuracy: 0.8760 (+/- 0.0288)\n",
      "\n",
      "==================================================\n",
      "FINAL RESULTS:\n",
      "\n",
      "Baseline Model: BernoulliNB, Average Accuracy: 0.8767 (+/- 0.0264)\n",
      "\n",
      "==================================================\n",
      "FINAL RESULTS:\n",
      "\n",
      "Baseline Model: MLPClassifier, Average Accuracy: 0.8361 (+/- 0.0578)\n"
     ]
    }
   ],
   "source": [
    "# --- After the loop, print the final results ---\n",
    "\n",
    "for model_name in baseline_scores.keys():\n",
    "    print(\"\\n\" + \"=\"*50)\n",
    "    print(\"FINAL RESULTS:\")\n",
    "    print()\n",
    "    print(f\"Baseline Model: {model_name}, Average Accuracy: {np.mean(baseline_scores[model_name]):.4f} (+/- {np.std(baseline_scores[model_name]):.4f})\")"
   ]
  },
  {
   "cell_type": "code",
   "execution_count": 195,
   "id": "92eef7f7-9dd2-4ae7-b020-beb2552e83ae",
   "metadata": {
    "tags": []
   },
   "outputs": [
    {
     "data": {
      "text/html": [
       "<div><div id=be117e69-be83-4a8c-a3c7-9bbd96bd020a style=\"display:none; background-color:#9D6CFF; color:white; width:200px; height:30px; padding-left:5px; border-radius:4px; flex-direction:row; justify-content:space-around; align-items:center;\" onmouseover=\"this.style.backgroundColor='#BA9BF8'\" onmouseout=\"this.style.backgroundColor='#9D6CFF'\" onclick=\"window.commands?.execute('create-mitosheet-from-dataframe-output');\">See Full Dataframe in Mito</div> <script> if (window.commands?.hasCommand('create-mitosheet-from-dataframe-output')) document.getElementById('be117e69-be83-4a8c-a3c7-9bbd96bd020a').style.display = 'flex' </script> <table border=\"1\" class=\"dataframe\">\n",
       "  <thead>\n",
       "    <tr style=\"text-align: right;\">\n",
       "      <th></th>\n",
       "      <th>feature</th>\n",
       "      <th>importance</th>\n",
       "    </tr>\n",
       "  </thead>\n",
       "  <tbody>\n",
       "    <tr>\n",
       "      <th>2</th>\n",
       "      <td>volume_imbalance_signal_z_score</td>\n",
       "      <td>0.741316</td>\n",
       "    </tr>\n",
       "    <tr>\n",
       "      <th>3</th>\n",
       "      <td>cumulative_abnormal_pressure</td>\n",
       "      <td>0.114656</td>\n",
       "    </tr>\n",
       "    <tr>\n",
       "      <th>1</th>\n",
       "      <td>volatility_of_pressure</td>\n",
       "      <td>0.072687</td>\n",
       "    </tr>\n",
       "    <tr>\n",
       "      <th>0</th>\n",
       "      <td>order_flow_proxy</td>\n",
       "      <td>0.071341</td>\n",
       "    </tr>\n",
       "  </tbody>\n",
       "</table></div>"
      ],
      "text/plain": [
       "                           feature  importance\n",
       "2  volume_imbalance_signal_z_score    0.741316\n",
       "3     cumulative_abnormal_pressure    0.114656\n",
       "1           volatility_of_pressure    0.072687\n",
       "0                 order_flow_proxy    0.071341"
      ]
     },
     "execution_count": 195,
     "metadata": {},
     "output_type": "execute_result"
    }
   ],
   "source": [
    "importance = rf_classifier_baseline.feature_importances_\n",
    "importance_data = pd.DataFrame({'feature':x.columns, 'importance':importance})\n",
    "importance_data = importance_data.sort_values(by = 'importance', ascending=False)\n",
    "importance_data"
   ]
  },
  {
   "cell_type": "markdown",
   "id": "40473be6-fba4-4cd5-80df-8d2036b65316",
   "metadata": {},
   "source": [
    "## model building with top-3 head and tail variables"
   ]
  },
  {
   "cell_type": "code",
   "execution_count": 196,
   "id": "50a0ade0-6f88-4974-945d-0903c07a8086",
   "metadata": {
    "tags": []
   },
   "outputs": [
    {
     "data": {
      "text/plain": [
       "['order_flow_proxy',\n",
       " 'volatility_of_pressure',\n",
       " 'Volume',\n",
       " 'intraday_pressure_index',\n",
       " 'volume_imbalance_signal_z_score',\n",
       " 'cumulative_abnormal_pressure']"
      ]
     },
     "execution_count": 196,
     "metadata": {},
     "output_type": "execute_result"
    }
   ],
   "source": [
    "columns_to_keep_2 = ticker_pca.head(3).index.tolist()\n",
    "columns_to_keep_2.extend(ticker_pca.tail(3).index.tolist())\n",
    "columns_to_keep_2 # --> instead of using all the features, using these 4 to train and build forecasting model"
   ]
  },
  {
   "cell_type": "code",
   "execution_count": 197,
   "id": "b43464d9-f8c7-4251-9411-00efd199bb62",
   "metadata": {
    "tags": []
   },
   "outputs": [],
   "source": [
    "x = ticker_data[columns_to_keep]\n",
    "y = ticker_data['close_direction']\n",
    "\n",
    "valid_index = x.dropna().index.intersection(y.dropna().index)\n",
    "x = x.loc[valid_index]\n",
    "y = y.loc[valid_index]"
   ]
  },
  {
   "cell_type": "code",
   "execution_count": 198,
   "id": "dbb2c8d1-817f-4fc5-9d5d-0de771b0d06d",
   "metadata": {
    "tags": []
   },
   "outputs": [
    {
     "name": "stderr",
     "output_type": "stream",
     "text": [
      "Fold 1:  33%|█████████████████████████▎                                                  | 1/3 [00:00<00:01,  1.44it/s]C:\\Users\\Munj Patel\\AppData\\Local\\Packages\\PythonSoftwareFoundation.Python.3.9_qbz5n2kfra8p0\\LocalCache\\local-packages\\Python39\\site-packages\\sklearn\\neural_network\\_multilayer_perceptron.py:684: ConvergenceWarning: Stochastic Optimizer: Maximum iterations (200) reached and the optimization hasn't converged yet.\n",
      "  warnings.warn(\n",
      "Fold 1: 100%|████████████████████████████████████████████████████████████████████████████| 3/3 [00:03<00:00,  1.18s/it]\n"
     ]
    },
    {
     "name": "stdout",
     "output_type": "stream",
     "text": [
      "✅ Completed Fold 1\n"
     ]
    },
    {
     "name": "stderr",
     "output_type": "stream",
     "text": [
      "Fold 2:  33%|█████████████████████████▎                                                  | 1/3 [00:01<00:02,  1.27s/it]C:\\Users\\Munj Patel\\AppData\\Local\\Packages\\PythonSoftwareFoundation.Python.3.9_qbz5n2kfra8p0\\LocalCache\\local-packages\\Python39\\site-packages\\sklearn\\neural_network\\_multilayer_perceptron.py:684: ConvergenceWarning: Stochastic Optimizer: Maximum iterations (200) reached and the optimization hasn't converged yet.\n",
      "  warnings.warn(\n",
      "Fold 2: 100%|████████████████████████████████████████████████████████████████████████████| 3/3 [00:06<00:00,  2.31s/it]\n"
     ]
    },
    {
     "name": "stdout",
     "output_type": "stream",
     "text": [
      "✅ Completed Fold 2\n"
     ]
    },
    {
     "name": "stderr",
     "output_type": "stream",
     "text": [
      "Fold 3: 100%|████████████████████████████████████████████████████████████████████████████| 3/3 [00:08<00:00,  2.89s/it]\n"
     ]
    },
    {
     "name": "stdout",
     "output_type": "stream",
     "text": [
      "✅ Completed Fold 3\n"
     ]
    },
    {
     "name": "stderr",
     "output_type": "stream",
     "text": [
      "Fold 4:  33%|█████████████████████████▎                                                  | 1/3 [00:02<00:05,  2.51s/it]C:\\Users\\Munj Patel\\AppData\\Local\\Packages\\PythonSoftwareFoundation.Python.3.9_qbz5n2kfra8p0\\LocalCache\\local-packages\\Python39\\site-packages\\sklearn\\neural_network\\_multilayer_perceptron.py:684: ConvergenceWarning: Stochastic Optimizer: Maximum iterations (200) reached and the optimization hasn't converged yet.\n",
      "  warnings.warn(\n",
      "Fold 4: 100%|████████████████████████████████████████████████████████████████████████████| 3/3 [00:13<00:00,  4.50s/it]\n"
     ]
    },
    {
     "name": "stdout",
     "output_type": "stream",
     "text": [
      "✅ Completed Fold 4\n"
     ]
    },
    {
     "name": "stderr",
     "output_type": "stream",
     "text": [
      "Fold 5: 100%|████████████████████████████████████████████████████████████████████████████| 3/3 [00:11<00:00,  3.97s/it]\n"
     ]
    },
    {
     "name": "stdout",
     "output_type": "stream",
     "text": [
      "✅ Completed Fold 5\n"
     ]
    },
    {
     "name": "stderr",
     "output_type": "stream",
     "text": [
      "Fold 6: 100%|████████████████████████████████████████████████████████████████████████████| 3/3 [00:10<00:00,  3.54s/it]\n"
     ]
    },
    {
     "name": "stdout",
     "output_type": "stream",
     "text": [
      "✅ Completed Fold 6\n"
     ]
    },
    {
     "name": "stderr",
     "output_type": "stream",
     "text": [
      "Fold 7: 100%|████████████████████████████████████████████████████████████████████████████| 3/3 [00:12<00:00,  4.09s/it]\n"
     ]
    },
    {
     "name": "stdout",
     "output_type": "stream",
     "text": [
      "✅ Completed Fold 7\n"
     ]
    },
    {
     "name": "stderr",
     "output_type": "stream",
     "text": [
      "Fold 8: 100%|████████████████████████████████████████████████████████████████████████████| 3/3 [00:13<00:00,  4.49s/it]\n"
     ]
    },
    {
     "name": "stdout",
     "output_type": "stream",
     "text": [
      "✅ Completed Fold 8\n"
     ]
    },
    {
     "name": "stderr",
     "output_type": "stream",
     "text": [
      "Fold 9: 100%|████████████████████████████████████████████████████████████████████████████| 3/3 [00:15<00:00,  5.07s/it]\n"
     ]
    },
    {
     "name": "stdout",
     "output_type": "stream",
     "text": [
      "✅ Completed Fold 9\n"
     ]
    },
    {
     "name": "stderr",
     "output_type": "stream",
     "text": [
      "Fold 10: 100%|███████████████████████████████████████████████████████████████████████████| 3/3 [00:20<00:00,  6.75s/it]"
     ]
    },
    {
     "name": "stdout",
     "output_type": "stream",
     "text": [
      "✅ Completed Fold 10\n"
     ]
    },
    {
     "name": "stderr",
     "output_type": "stream",
     "text": [
      "\n"
     ]
    }
   ],
   "source": [
    "from sklearn.model_selection import TimeSeriesSplit\n",
    "from sklearn.preprocessing import StandardScaler\n",
    "from sklearn.metrics import accuracy_score\n",
    "from collections import defaultdict\n",
    "from tqdm import tqdm\n",
    "import numpy as np\n",
    "\n",
    "# Convert to numpy early for speed\n",
    "x_np = x.to_numpy()\n",
    "y_np = y.to_numpy()\n",
    "\n",
    "tscv = TimeSeriesSplit(n_splits=10)\n",
    "baseline_scores = defaultdict(list)\n",
    "\n",
    "for fold_idx, (train_index, test_index) in enumerate(tscv.split(x_np)):\n",
    "    x_train, x_test = x_np[train_index], x_np[test_index]\n",
    "    y_train, y_test = y_np[train_index], y_np[test_index]\n",
    "    \n",
    "    # Drop any rows with NaNs after split (rare if cleaned earlier)\n",
    "    mask_train = ~np.isnan(x_train).any(axis=1)\n",
    "    mask_test = ~np.isnan(x_test).any(axis=1)\n",
    "    x_train, y_train = x_train[mask_train], y_train[mask_train]\n",
    "    x_test, y_test = x_test[mask_test], y_test[mask_test]\n",
    "\n",
    "    if len(x_test) == 0 or len(x_train) == 0:\n",
    "        print(f\"Skipping fold {fold_idx+1} due to empty dataset after cleaning.\")\n",
    "        continue\n",
    "\n",
    "    # Scale\n",
    "    scaler = StandardScaler()\n",
    "    x_train_scaled = scaler.fit_transform(x_train)\n",
    "    x_test_scaled = scaler.transform(x_test)\n",
    "\n",
    "    for model in tqdm(models_list, desc=f\"Fold {fold_idx+1}\"):\n",
    "        model_name = model.__class__.__name__\n",
    "\n",
    "        model.fit(x_train_scaled, y_train)\n",
    "        y_pred = model.predict(x_test_scaled)\n",
    "        score = accuracy_score(y_test, y_pred)\n",
    "\n",
    "        baseline_scores[model_name].append(score)\n",
    "\n",
    "    print(f\"✅ Completed Fold {fold_idx+1}\")"
   ]
  },
  {
   "cell_type": "code",
   "execution_count": 199,
   "id": "f55a97ae-9450-4fde-bccd-e0ef5da615c5",
   "metadata": {
    "tags": []
   },
   "outputs": [
    {
     "data": {
      "text/plain": [
       "defaultdict(list,\n",
       "            {'RandomForestClassifier': [0.887130075705437,\n",
       "              0.9036476256022024,\n",
       "              0.8699242945629732,\n",
       "              0.8513420509291122,\n",
       "              0.8960770818995183,\n",
       "              0.9029593943565037,\n",
       "              0.8850653819683414,\n",
       "              0.905712319339298,\n",
       "              0.8396421197522368,\n",
       "              0.8183069511355816],\n",
       "             'BernoulliNB': [0.860977288368892,\n",
       "              0.9112181693048864,\n",
       "              0.8830006882312457,\n",
       "              0.8830006882312457,\n",
       "              0.874741913282863,\n",
       "              0.9008947006194081,\n",
       "              0.9015829318651066,\n",
       "              0.8878183069511356,\n",
       "              0.8368891947694426,\n",
       "              0.8265657260839642],\n",
       "             'MLPClassifier': [0.8816242257398486,\n",
       "              0.9022711631108052,\n",
       "              0.70474879559532,\n",
       "              0.7907777013076394,\n",
       "              0.8368891947694426,\n",
       "              0.8272539573296628,\n",
       "              0.8575361321403991,\n",
       "              0.9194769442532691,\n",
       "              0.8272539573296628,\n",
       "              0.7928423950447351]})"
      ]
     },
     "execution_count": 199,
     "metadata": {},
     "output_type": "execute_result"
    }
   ],
   "source": [
    "baseline_scores"
   ]
  },
  {
   "cell_type": "code",
   "execution_count": 200,
   "id": "bb2ded99-6473-45cc-8a2f-c4e1c2a84090",
   "metadata": {
    "tags": []
   },
   "outputs": [
    {
     "name": "stdout",
     "output_type": "stream",
     "text": [
      "\n",
      "==================================================\n",
      "FINAL RESULTS:\n",
      "\n",
      "Baseline Model: RandomForestClassifier, Average Accuracy: 0.8760 (+/- 0.0288)\n",
      "\n",
      "==================================================\n",
      "FINAL RESULTS:\n",
      "\n",
      "Baseline Model: BernoulliNB, Average Accuracy: 0.8767 (+/- 0.0264)\n",
      "\n",
      "==================================================\n",
      "FINAL RESULTS:\n",
      "\n",
      "Baseline Model: MLPClassifier, Average Accuracy: 0.8341 (+/- 0.0593)\n"
     ]
    }
   ],
   "source": [
    "# --- After the loop, print the final results ---\n",
    "\n",
    "for model_name in baseline_scores.keys():\n",
    "    print(\"\\n\" + \"=\"*50)\n",
    "    print(\"FINAL RESULTS:\")\n",
    "    print()\n",
    "    print(f\"Baseline Model: {model_name}, Average Accuracy: {np.mean(baseline_scores[model_name]):.4f} (+/- {np.std(baseline_scores[model_name]):.4f})\")"
   ]
  },
  {
   "cell_type": "code",
   "execution_count": 201,
   "id": "3148e73b-4ef8-41d8-9be7-fd5946db1843",
   "metadata": {
    "tags": []
   },
   "outputs": [
    {
     "data": {
      "text/html": [
       "<div><div id=3014c824-a26e-4260-b313-a9a4cf8a64be style=\"display:none; background-color:#9D6CFF; color:white; width:200px; height:30px; padding-left:5px; border-radius:4px; flex-direction:row; justify-content:space-around; align-items:center;\" onmouseover=\"this.style.backgroundColor='#BA9BF8'\" onmouseout=\"this.style.backgroundColor='#9D6CFF'\" onclick=\"window.commands?.execute('create-mitosheet-from-dataframe-output');\">See Full Dataframe in Mito</div> <script> if (window.commands?.hasCommand('create-mitosheet-from-dataframe-output')) document.getElementById('3014c824-a26e-4260-b313-a9a4cf8a64be').style.display = 'flex' </script> <table border=\"1\" class=\"dataframe\">\n",
       "  <thead>\n",
       "    <tr style=\"text-align: right;\">\n",
       "      <th></th>\n",
       "      <th>feature</th>\n",
       "      <th>importance</th>\n",
       "    </tr>\n",
       "  </thead>\n",
       "  <tbody>\n",
       "    <tr>\n",
       "      <th>2</th>\n",
       "      <td>volume_imbalance_signal_z_score</td>\n",
       "      <td>0.741316</td>\n",
       "    </tr>\n",
       "    <tr>\n",
       "      <th>3</th>\n",
       "      <td>cumulative_abnormal_pressure</td>\n",
       "      <td>0.114656</td>\n",
       "    </tr>\n",
       "    <tr>\n",
       "      <th>1</th>\n",
       "      <td>volatility_of_pressure</td>\n",
       "      <td>0.072687</td>\n",
       "    </tr>\n",
       "    <tr>\n",
       "      <th>0</th>\n",
       "      <td>order_flow_proxy</td>\n",
       "      <td>0.071341</td>\n",
       "    </tr>\n",
       "  </tbody>\n",
       "</table></div>"
      ],
      "text/plain": [
       "                           feature  importance\n",
       "2  volume_imbalance_signal_z_score    0.741316\n",
       "3     cumulative_abnormal_pressure    0.114656\n",
       "1           volatility_of_pressure    0.072687\n",
       "0                 order_flow_proxy    0.071341"
      ]
     },
     "execution_count": 201,
     "metadata": {},
     "output_type": "execute_result"
    }
   ],
   "source": [
    "importance = rf_classifier_baseline.feature_importances_\n",
    "importance_data = pd.DataFrame({'feature':x.columns, 'importance':importance})\n",
    "importance_data = importance_data.sort_values(by = 'importance', ascending=False)\n",
    "importance_data"
   ]
  },
  {
   "cell_type": "markdown",
   "id": "06ab546b-d0cc-4a98-8c78-8d33b7bf7b9a",
   "metadata": {},
   "source": [
    "### No change in the accruacy of the baseline model, so choice of taking top-2 works the best! "
   ]
  },
  {
   "cell_type": "code",
   "execution_count": null,
   "id": "42976818-7f53-45a3-a784-cabceede8427",
   "metadata": {},
   "outputs": [],
   "source": []
  }
 ],
 "metadata": {
  "kernelspec": {
   "display_name": "Python 3 (ipykernel)",
   "language": "python",
   "name": "python3"
  },
  "language_info": {
   "codemirror_mode": {
    "name": "ipython",
    "version": 3
   },
   "file_extension": ".py",
   "mimetype": "text/x-python",
   "name": "python",
   "nbconvert_exporter": "python",
   "pygments_lexer": "ipython3",
   "version": "3.9.13"
  }
 },
 "nbformat": 4,
 "nbformat_minor": 5
}
